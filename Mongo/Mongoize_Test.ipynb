{
 "cells": [
  {
   "cell_type": "code",
   "execution_count": 1,
   "metadata": {},
   "outputs": [],
   "source": [
    "import pymongo\n",
    "import pandas as pd"
   ]
  },
  {
   "cell_type": "code",
   "execution_count": 2,
   "metadata": {},
   "outputs": [],
   "source": [
    "df_1 = pd.DataFrame(\n",
    "    {\n",
    "        \"Name\": [\"Gorge\", \"Felix\", \"Brandon\"],\n",
    "        \"Age\": [22, 25, 30],\n",
    "        \"Cool Points\": [56, 245, -16]\n",
    "    }\n",
    ")\n",
    "\n",
    "df_2 = pd.DataFrame(\n",
    "    {\n",
    "        \"Year of Employment\": [2010, 2010, 2010, 2011, 2011, 2011, 2012, 2012, 2013],\n",
    "        \"Sallary\": [4.53, 4.56, 4.32, 5.21, 5.24, 5.23, 6.22, 7.34, 10.55],\n",
    "        \"Name\": [\"Gorge\", \"Felix\", \"Brandon\", \"Gorge\", \"Felix\", \"Brandon\", \"Gorge\", \"Felix\", \"Gorge\"]\n",
    "    }\n",
    ")"
   ]
  },
  {
   "cell_type": "code",
   "execution_count": 3,
   "metadata": {},
   "outputs": [
    {
     "data": {
      "text/html": [
       "<div>\n",
       "<style scoped>\n",
       "    .dataframe tbody tr th:only-of-type {\n",
       "        vertical-align: middle;\n",
       "    }\n",
       "\n",
       "    .dataframe tbody tr th {\n",
       "        vertical-align: top;\n",
       "    }\n",
       "\n",
       "    .dataframe thead th {\n",
       "        text-align: right;\n",
       "    }\n",
       "</style>\n",
       "<table border=\"1\" class=\"dataframe\">\n",
       "  <thead>\n",
       "    <tr style=\"text-align: right;\">\n",
       "      <th></th>\n",
       "      <th>Name</th>\n",
       "      <th>Age</th>\n",
       "      <th>Cool Points</th>\n",
       "    </tr>\n",
       "  </thead>\n",
       "  <tbody>\n",
       "    <tr>\n",
       "      <th>0</th>\n",
       "      <td>Gorge</td>\n",
       "      <td>22</td>\n",
       "      <td>56</td>\n",
       "    </tr>\n",
       "    <tr>\n",
       "      <th>1</th>\n",
       "      <td>Felix</td>\n",
       "      <td>25</td>\n",
       "      <td>245</td>\n",
       "    </tr>\n",
       "    <tr>\n",
       "      <th>2</th>\n",
       "      <td>Brandon</td>\n",
       "      <td>30</td>\n",
       "      <td>-16</td>\n",
       "    </tr>\n",
       "  </tbody>\n",
       "</table>\n",
       "</div>"
      ],
      "text/plain": [
       "      Name  Age  Cool Points\n",
       "0    Gorge   22           56\n",
       "1    Felix   25          245\n",
       "2  Brandon   30          -16"
      ]
     },
     "execution_count": 3,
     "metadata": {},
     "output_type": "execute_result"
    }
   ],
   "source": [
    "df_1.head()"
   ]
  },
  {
   "cell_type": "code",
   "execution_count": 4,
   "metadata": {},
   "outputs": [
    {
     "data": {
      "text/html": [
       "<div>\n",
       "<style scoped>\n",
       "    .dataframe tbody tr th:only-of-type {\n",
       "        vertical-align: middle;\n",
       "    }\n",
       "\n",
       "    .dataframe tbody tr th {\n",
       "        vertical-align: top;\n",
       "    }\n",
       "\n",
       "    .dataframe thead th {\n",
       "        text-align: right;\n",
       "    }\n",
       "</style>\n",
       "<table border=\"1\" class=\"dataframe\">\n",
       "  <thead>\n",
       "    <tr style=\"text-align: right;\">\n",
       "      <th></th>\n",
       "      <th>Year of Employment</th>\n",
       "      <th>Sallary</th>\n",
       "      <th>Name</th>\n",
       "    </tr>\n",
       "  </thead>\n",
       "  <tbody>\n",
       "    <tr>\n",
       "      <th>0</th>\n",
       "      <td>2010</td>\n",
       "      <td>4.53</td>\n",
       "      <td>Gorge</td>\n",
       "    </tr>\n",
       "    <tr>\n",
       "      <th>1</th>\n",
       "      <td>2010</td>\n",
       "      <td>4.56</td>\n",
       "      <td>Felix</td>\n",
       "    </tr>\n",
       "    <tr>\n",
       "      <th>2</th>\n",
       "      <td>2010</td>\n",
       "      <td>4.32</td>\n",
       "      <td>Brandon</td>\n",
       "    </tr>\n",
       "    <tr>\n",
       "      <th>3</th>\n",
       "      <td>2011</td>\n",
       "      <td>5.21</td>\n",
       "      <td>Gorge</td>\n",
       "    </tr>\n",
       "    <tr>\n",
       "      <th>4</th>\n",
       "      <td>2011</td>\n",
       "      <td>5.24</td>\n",
       "      <td>Felix</td>\n",
       "    </tr>\n",
       "  </tbody>\n",
       "</table>\n",
       "</div>"
      ],
      "text/plain": [
       "   Year of Employment  Sallary     Name\n",
       "0                2010     4.53    Gorge\n",
       "1                2010     4.56    Felix\n",
       "2                2010     4.32  Brandon\n",
       "3                2011     5.21    Gorge\n",
       "4                2011     5.24    Felix"
      ]
     },
     "execution_count": 4,
     "metadata": {},
     "output_type": "execute_result"
    }
   ],
   "source": [
    "df_2.head()"
   ]
  },
  {
   "cell_type": "code",
   "execution_count": 5,
   "metadata": {},
   "outputs": [],
   "source": [
    "conn = 'mongodb://localhost:27017'\n",
    "client = pymongo.MongoClient(conn)\n",
    "db = client.baseball\n",
    "collection = db.player_data"
   ]
  },
  {
   "cell_type": "code",
   "execution_count": 6,
   "metadata": {},
   "outputs": [],
   "source": [
    "db = client.baseball"
   ]
  },
  {
   "cell_type": "code",
   "execution_count": 7,
   "metadata": {},
   "outputs": [],
   "source": [
    "collection = db.player_data"
   ]
  },
  {
   "cell_type": "code",
   "execution_count": 28,
   "metadata": {},
   "outputs": [],
   "source": [
    "def mongoize(primary_df, \n",
    "             secondary_df, \n",
    "             primary_column_to_merge_on, \n",
    "             secondary_column_to_merge_on):\n",
    "\n",
    "    # Create a list to hold dictionaries to insert into the table using insert_many \n",
    "    to_insert= []\n",
    "    # Loop through the primary_df to get the data needed\n",
    "    for i, row_primary in primary_df.iterrows():\n",
    "        # Create a dictionary to insert the single entry of data from the primary_df\n",
    "        new_entry = {}\n",
    "\n",
    "        # loop through each item of row_primary to imput each value into a key value pair\n",
    "        for j in range(len(row_primary)):\n",
    "            # get the column name from the primary_df to use as the Key,\n",
    "            # and get the associated Value using the same method from the current row\n",
    "            new_entry[primary_df.columns[j]] = row_primary[primary_df.columns[j]]\n",
    "\n",
    "        # create an entry to hold the list of data from the Secondary Dataframe\n",
    "        new_entry[\"Salary Data\"] = []\n",
    "\n",
    "       # Loop through the secondary_df to get the data needed\n",
    "        for k, row_secondary in secondary_df.iterrows():\n",
    "            # Create a dictionary to insert the single entry of data from the secondary_df\n",
    "            new_sub_entry = {}\n",
    "\n",
    "            # loop through each item of row_secondary to imput each value into a key value pair\n",
    "            for l in range(len(row_secondary)):\n",
    "                found = False\n",
    "                # get the column name from the secondary_df to use as the Key,\n",
    "                # and get the associated Value using the same method from the current row\n",
    "                new_sub_entry[secondary_df.columns[l]] = row_secondary[secondary_df.columns[l]]\n",
    "                if new_sub_entry[secondary_df.columns[l]] == new_entry[primary_column_to_merge_on]:\n",
    "                    found = True\n",
    "                elif found == True and (new_sub_entry[secondary_df.columns[l]] != new_entry[primary_column_to_merge_on]):\n",
    "                    break\n",
    "            # merge only the entries that match the current row's Key to merge on\n",
    "            if new_sub_entry[secondary_column_to_merge_on] == new_entry[primary_column_to_merge_on]:\n",
    "                # Delete the data that was used to merge from new_sub_entry as it is \n",
    "                del new_sub_entry[secondary_column_to_merge_on]\n",
    "                # add the new_sub_entry to the new_entry\n",
    "                new_entry[\"Salary Data\"].append(new_sub_entry)\n",
    "\n",
    "        # add new entry to the list to be inserted\n",
    "        print(new_entry)\n",
    "        to_insert.append(new_entry)\n",
    "    return to_insert"
   ]
  },
  {
   "cell_type": "code",
   "execution_count": 29,
   "metadata": {},
   "outputs": [
    {
     "name": "stdout",
     "output_type": "stream",
     "text": [
      "{'Name': 'Gorge', 'Age': 22, 'Cool Points': 56, 'Salary Data': [{'Year of Employment': 2010, 'Sallary': 4.53}, {'Year of Employment': 2011, 'Sallary': 5.21}, {'Year of Employment': 2012, 'Sallary': 6.22}, {'Year of Employment': 2013, 'Sallary': 10.55}]}\n",
      "{'Name': 'Felix', 'Age': 25, 'Cool Points': 245, 'Salary Data': [{'Year of Employment': 2010, 'Sallary': 4.56}, {'Year of Employment': 2011, 'Sallary': 5.24}, {'Year of Employment': 2012, 'Sallary': 7.34}]}\n",
      "{'Name': 'Brandon', 'Age': 30, 'Cool Points': -16, 'Salary Data': [{'Year of Employment': 2010, 'Sallary': 4.32}, {'Year of Employment': 2011, 'Sallary': 5.23}]}\n"
     ]
    },
    {
     "data": {
      "text/plain": [
       "[{'Name': 'Gorge',\n",
       "  'Age': 22,\n",
       "  'Cool Points': 56,\n",
       "  'Salary Data': [{'Year of Employment': 2010, 'Sallary': 4.53},\n",
       "   {'Year of Employment': 2011, 'Sallary': 5.21},\n",
       "   {'Year of Employment': 2012, 'Sallary': 6.22},\n",
       "   {'Year of Employment': 2013, 'Sallary': 10.55}]},\n",
       " {'Name': 'Felix',\n",
       "  'Age': 25,\n",
       "  'Cool Points': 245,\n",
       "  'Salary Data': [{'Year of Employment': 2010, 'Sallary': 4.56},\n",
       "   {'Year of Employment': 2011, 'Sallary': 5.24},\n",
       "   {'Year of Employment': 2012, 'Sallary': 7.34}]},\n",
       " {'Name': 'Brandon',\n",
       "  'Age': 30,\n",
       "  'Cool Points': -16,\n",
       "  'Salary Data': [{'Year of Employment': 2010, 'Sallary': 4.32},\n",
       "   {'Year of Employment': 2011, 'Sallary': 5.23}]}]"
      ]
     },
     "execution_count": 29,
     "metadata": {},
     "output_type": "execute_result"
    }
   ],
   "source": [
    "mongoize(df_1, df_2, \"Name\", \"Name\")"
   ]
  },
  {
   "cell_type": "code",
   "execution_count": null,
   "metadata": {},
   "outputs": [],
   "source": [
    "for i, j in df_1.iterrows():\n",
    "    print(j)\n",
    "    for k in j:\n",
    "        print(k)"
   ]
  },
  {
   "cell_type": "code",
   "execution_count": null,
   "metadata": {},
   "outputs": [],
   "source": [
    "print(df_1)"
   ]
  },
  {
   "cell_type": "code",
   "execution_count": null,
   "metadata": {},
   "outputs": [],
   "source": [
    "test = [c_name for c_name in df_1.columns]\n",
    "print(test)"
   ]
  },
  {
   "cell_type": "code",
   "execution_count": null,
   "metadata": {},
   "outputs": [],
   "source": [
    "df_1.columns[1]"
   ]
  },
  {
   "cell_type": "code",
   "execution_count": null,
   "metadata": {},
   "outputs": [],
   "source": [
    "collection.insert_many()"
   ]
  }
 ],
 "metadata": {
  "kernelspec": {
   "display_name": "Python 3",
   "language": "python",
   "name": "python3"
  },
  "language_info": {
   "codemirror_mode": {
    "name": "ipython",
    "version": 3
   },
   "file_extension": ".py",
   "mimetype": "text/x-python",
   "name": "python",
   "nbconvert_exporter": "python",
   "pygments_lexer": "ipython3",
   "version": "3.6.7"
  }
 },
 "nbformat": 4,
 "nbformat_minor": 2
}
